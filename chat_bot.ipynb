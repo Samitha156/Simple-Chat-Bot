{
 "cells": [
  {
   "cell_type": "code",
   "execution_count": 1,
   "metadata": {},
   "outputs": [],
   "source": [
    "import re \n",
    "import long_responses as long\n",
    "import sys"
   ]
  },
  {
   "cell_type": "code",
   "execution_count": 2,
   "metadata": {},
   "outputs": [
    {
     "name": "stdout",
     "output_type": "stream",
     "text": [
      "You: hello\n",
      "{'Hello!': 20, \"I'm doing well, and you?\": 0, 'Thank you!': 0, \"I don't like eat, not hungry\": 0}\n",
      "Bot:Hello!\n",
      "You: how are you?\n",
      "{'Hello!': 0, \"I'm doing well, and you?\": 75, 'Thank you!': 0, \"I don't like eat, not hungry\": 33}\n",
      "Bot:I'm doing well, and you?\n",
      "You: great!\n",
      "{'Hello!': 0, \"I'm doing well, and you?\": 0, 'Thank you!': 25, \"I don't like eat, not hungry\": 0}\n",
      "Bot:Thank you!\n",
      "You: are you hungry?\n",
      "{'Hello!': 0, \"I'm doing well, and you?\": 50, 'Thank you!': 0, \"I don't like eat, not hungry\": 33}\n",
      "Bot:I'm doing well, and you?\n",
      "You: you want to eat?\n",
      "{'Hello!': 0, \"I'm doing well, and you?\": 25, 'Thank you!': 0, \"I don't like eat, not hungry\": 66}\n",
      "Bot:I don't like eat, not hungry\n",
      "You: you must\n",
      "{'Hello!': 0, \"I'm doing well, and you?\": 25, 'Thank you!': 0, \"I don't like eat, not hungry\": 33}\n",
      "Bot:I don't like eat, not hungry\n",
      "You: please\n",
      "{'Hello!': 0, \"I'm doing well, and you?\": 0, 'Thank you!': 0, \"I don't like eat, not hungry\": 0}\n",
      "Bot:sounds about right\n",
      "You: what\n",
      "{'Hello!': 0, \"I'm doing well, and you?\": 0, 'Thank you!': 0, \"I don't like eat, not hungry\": 33}\n",
      "Bot:I don't like eat, not hungry\n",
      "You: no\n",
      "{'Hello!': 0, \"I'm doing well, and you?\": 0, 'Thank you!': 0, \"I don't like eat, not hungry\": 0}\n",
      "Bot:sounds about right\n",
      "You: let's go\n",
      "{'Hello!': 0, \"I'm doing well, and you?\": 0, 'Thank you!': 0, \"I don't like eat, not hungry\": 0}\n",
      "Bot:what does that mean?\n",
      "You: go\n",
      "{'Hello!': 0, \"I'm doing well, and you?\": 0, 'Thank you!': 0, \"I don't like eat, not hungry\": 0}\n",
      "Bot:sounds about right\n",
      "You: repeat\n",
      "{'Hello!': 0, \"I'm doing well, and you?\": 0, 'Thank you!': 0, \"I don't like eat, not hungry\": 0}\n",
      "Bot:could you please re-phase that?\n",
      "You: exit\n"
     ]
    },
    {
     "ename": "SystemExit",
     "evalue": "",
     "output_type": "error",
     "traceback": [
      "An exception has occurred, use %tb to see the full traceback.\n",
      "\u001b[1;31mSystemExit\u001b[0m\n"
     ]
    },
    {
     "name": "stderr",
     "output_type": "stream",
     "text": [
      "C:\\Users\\USER\\Anaconda3\\lib\\site-packages\\IPython\\core\\interactiveshell.py:3351: UserWarning: To exit: use 'exit', 'quit', or Ctrl-D.\n",
      "  warn(\"To exit: use 'exit', 'quit', or Ctrl-D.\", stacklevel=1)\n"
     ]
    }
   ],
   "source": [
    "def message_probability(user_message, recognised_words, single_response=False, required_words=[]):\n",
    "    message_certainty = 0\n",
    "    has_required_words =True\n",
    "    \n",
    "    for word in user_message:\n",
    "        if word in recognised_words:\n",
    "            message_certainty +=1\n",
    "            \n",
    "    percentage = float(message_certainty)/float(len(recognised_words))\n",
    "    \n",
    "    \n",
    "    for words in required_words:\n",
    "        if word not in user_message:\n",
    "            has_required_words = False\n",
    "            break\n",
    "            \n",
    "    if has_required_words or single_response:\n",
    "        return int(percentage*100)\n",
    "    else:\n",
    "        return 0\n",
    "def check_all_messages(message):\n",
    "    highest_prob_list = {}\n",
    "    \n",
    "    def response(bot_response, list_of_words, single_response = False, required_words =[]):\n",
    "        nonlocal highest_prob_list\n",
    "        highest_prob_list[bot_response] = message_probability(message, list_of_words, single_response, required_words)\n",
    "        \n",
    "    ###REsponse--------\n",
    "    response('Hello!',['hello','hi','sup','hey','heyo'], single_response = True)\n",
    "    response('I\\'m doing well, and you?',['how','are','you','doing'], required_words=['how'])\n",
    "    response('Thank you!',['great','good','well','neat'],required_words=['great','good'])\n",
    "    response(long.R_EATING,['what','you','eat'], required_words = ['you','eat'])\n",
    "    \n",
    "    best_match = max(highest_prob_list, key= highest_prob_list.get)\n",
    "    print(highest_prob_list)\n",
    "    \n",
    "    return long.unknown() if highest_prob_list[best_match] < 1 else best_match\n",
    "\n",
    "def get_response(user_input):\n",
    "    if user_input == 'exit':\n",
    "        return sys.exit()\n",
    "    else:\n",
    "        \n",
    "        split_message = re.split(r'\\s+|[,;?!.-]\\s*',user_input.lower())\n",
    "        response = check_all_messages(split_message)\n",
    "        return response\n",
    "\n",
    "while True:\n",
    "    print('Bot:' + get_response(input('You: ')))"
   ]
  },
  {
   "cell_type": "code",
   "execution_count": null,
   "metadata": {},
   "outputs": [],
   "source": []
  },
  {
   "cell_type": "code",
   "execution_count": null,
   "metadata": {},
   "outputs": [],
   "source": []
  }
 ],
 "metadata": {
  "kernelspec": {
   "display_name": "Python 3",
   "language": "python",
   "name": "python3"
  },
  "language_info": {
   "codemirror_mode": {
    "name": "ipython",
    "version": 3
   },
   "file_extension": ".py",
   "mimetype": "text/x-python",
   "name": "python",
   "nbconvert_exporter": "python",
   "pygments_lexer": "ipython3",
   "version": "3.6.4"
  }
 },
 "nbformat": 4,
 "nbformat_minor": 2
}
